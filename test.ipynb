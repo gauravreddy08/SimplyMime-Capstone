{
 "cells": [
  {
   "cell_type": "code",
   "execution_count": 1,
   "metadata": {},
   "outputs": [],
   "source": [
    "import mediapipe as mp\n",
    "import cv2 as cv\n",
    "\n",
    "mp_hands = mp.solutions.hands\n",
    "\n",
    "hands = mp_hands.Hands(\n",
    "    static_image_mode=True,\n",
    "    max_num_hands=2,\n",
    "    min_detection_confidence=0.7)"
   ]
  },
  {
   "cell_type": "code",
   "execution_count": 2,
   "metadata": {},
   "outputs": [
    {
     "name": "stderr",
     "output_type": "stream",
     "text": [
      "INFO: Created TensorFlow Lite XNNPACK delegate for CPU.\n"
     ]
    }
   ],
   "source": [
    "img = cv.imread(\"test/img3.jpg\")"
   ]
  },
  {
   "cell_type": "code",
   "execution_count": 3,
   "metadata": {},
   "outputs": [],
   "source": [
    "hands =  mp_hands.Hands(\n",
    "    static_image_mode=True,\n",
    "    max_num_hands=2,\n",
    "    min_detection_confidence=0.7) \n",
    "\n",
    "results = hands.process(cv.cvtColor(img, cv.COLOR_BGR2RGB))"
   ]
  },
  {
   "cell_type": "code",
   "execution_count": 142,
   "metadata": {},
   "outputs": [
    {
     "data": {
      "text/plain": [
       "True"
      ]
     },
     "execution_count": 142,
     "metadata": {},
     "output_type": "execute_result"
    }
   ],
   "source": [
    "mp_hands.HandLandmark.THUMB_MCP"
   ]
  },
  {
   "cell_type": "code",
   "execution_count": 148,
   "metadata": {},
   "outputs": [],
   "source": [
    "def get_data(results):\n",
    "    hall_marks = results.multi_hand_landmarks[0]\n",
    "    for idx, hand_handedness in enumerate(results.multi_handedness):\n",
    "        side = hand_handedness.classification[0].label\n",
    "    res = []\n",
    "    # THUMB\n",
    "    if side==\"Right\":\n",
    "        res.append(1 if hall_marks.landmark[mp_hands.HandLandmark.INDEX_FINGER_TIP].y < hall_marks.landmark[mp_hands.HandLandmark.INDEX_FINGER_MCP].y else 0)\n",
    "    else:\n",
    "        res.append(0 if hall_marks.landmark[mp_hands.HandLandmark.INDEX_FINGER_TIP].y < hall_marks.landmark[mp_hands.HandLandmark.INDEX_FINGER_MCP].y else 1)\n",
    "        \n",
    "    \n",
    "    # INDEX\n",
    "    res.append(1 if hall_marks.landmark[mp_hands.HandLandmark.INDEX_FINGER_TIP].y < hall_marks.landmark[mp_hands.HandLandmark.INDEX_FINGER_MCP].y else 0)\n",
    "    \n",
    "    # MIDDLE\n",
    "    res.append(1 if hall_marks.landmark[mp_hands.HandLandmark.MIDDLE_FINGER_TIP].y < hall_marks.landmark[mp_hands.HandLandmark.MIDDLE_FINGER_MCP].y else 0)\n",
    "    \n",
    "    # RING\n",
    "    res.append(1 if hall_marks.landmark[mp_hands.HandLandmark.RING_FINGER_TIP].y < hall_marks.landmark[mp_hands.HandLandmark.RING_FINGER_MCP].y else 0)\n",
    "    \n",
    "    # PINKY\n",
    "    res.append(1 if hall_marks.landmark[mp_hands.HandLandmark.PINKY_TIP].y < hall_marks.landmark[mp_hands.HandLandmark.PINKY_MCP].y else 0)\n",
    "\n",
    "    return side, res"
   ]
  },
  {
   "cell_type": "code",
   "execution_count": 150,
   "metadata": {},
   "outputs": [],
   "source": [
    "side, res = get_data(results)"
   ]
  },
  {
   "cell_type": "code",
   "execution_count": 4,
   "metadata": {},
   "outputs": [],
   "source": [
    "hall_marks = results.multi_hand_landmarks[0]\n",
    "\n",
    "x1, y1 = hall_marks.landmark[mp_hands.HandLandmark.INDEX_FINGER_TIP].x , hall_marks.landmark[mp_hands.HandLandmark.INDEX_FINGER_TIP].y\n",
    "x2, y2 = hall_marks.landmark[mp_hands.HandLandmark.THUMB_TIP].x , hall_marks.landmark[mp_hands.HandLandmark.THUMB_TIP].y\n"
   ]
  },
  {
   "cell_type": "code",
   "execution_count": 20,
   "metadata": {},
   "outputs": [
    {
     "name": "stdout",
     "output_type": "stream",
     "text": [
      "Right\n"
     ]
    }
   ],
   "source": [
    "for i, j in enumerate(results.multi_handedness):\n",
    "    print(j.classification[0].label)"
   ]
  },
  {
   "cell_type": "code",
   "execution_count": 7,
   "metadata": {},
   "outputs": [
    {
     "data": {
      "text/plain": [
       "(0.2204156517982483, 0.46973004937171936)"
      ]
     },
     "execution_count": 7,
     "metadata": {},
     "output_type": "execute_result"
    }
   ],
   "source": [
    "x2, y2"
   ]
  },
  {
   "cell_type": "code",
   "execution_count": 20,
   "metadata": {},
   "outputs": [
    {
     "data": {
      "text/plain": [
       "[494.5476293563843, 354.50340807437897]"
      ]
     },
     "execution_count": 20,
     "metadata": {},
     "output_type": "execute_result"
    }
   ],
   "source": [
    "import pyautogui\n",
    "w, h = pyautogui.size()\n",
    "\n",
    "[x, y] = (x1+x2)*w/2, (y1+y2)*h/2\n",
    "[x, y]"
   ]
  },
  {
   "cell_type": "code",
   "execution_count": 17,
   "metadata": {},
   "outputs": [],
   "source": []
  },
  {
   "cell_type": "code",
   "execution_count": 18,
   "metadata": {},
   "outputs": [
    {
     "data": {
      "text/plain": [
       "1440"
      ]
     },
     "execution_count": 18,
     "metadata": {},
     "output_type": "execute_result"
    }
   ],
   "source": []
  },
  {
   "cell_type": "code",
   "execution_count": null,
   "metadata": {},
   "outputs": [],
   "source": []
  }
 ],
 "metadata": {
  "kernelspec": {
   "display_name": "env",
   "language": "python",
   "name": "python3"
  },
  "language_info": {
   "codemirror_mode": {
    "name": "ipython",
    "version": 3
   },
   "file_extension": ".py",
   "mimetype": "text/x-python",
   "name": "python",
   "nbconvert_exporter": "python",
   "pygments_lexer": "ipython3",
   "version": "3.10.8"
  },
  "orig_nbformat": 4,
  "vscode": {
   "interpreter": {
    "hash": "e4be9eeec482d599b9936a646e5b1cc2de9789bbe0dcd2190defec3293bd3f2f"
   }
  }
 },
 "nbformat": 4,
 "nbformat_minor": 2
}
